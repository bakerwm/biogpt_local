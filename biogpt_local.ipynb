{
 "cells": [
  {
   "cell_type": "code",
   "execution_count": null,
   "id": "0e0ec6bf-f2aa-4851-ac94-40fb01f47065",
   "metadata": {
    "scrolled": true,
    "tags": []
   },
   "outputs": [],
   "source": [
    "import torch\n",
    "from fairseq.models.transformer_lm import TransformerLanguageModel\n",
    "m = TransformerLanguageModel.from_pretrained(\n",
    "        \"checkpoints/Pre-trained-BioGPT\", \n",
    "        \"checkpoint.pt\", \n",
    "        \"data\",\n",
    "        tokenizer='moses', \n",
    "        bpe='fastbpe', \n",
    "        bpe_codes=\"data/bpecodes\",\n",
    "        min_len=100,\n",
    "        max_len_b=1024)\n",
    "m.cuda()"
   ]
  },
  {
   "cell_type": "code",
   "execution_count": null,
   "id": "a9612960-e539-4140-8d5b-7e51b487ee33",
   "metadata": {},
   "outputs": [],
   "source": [
    "# Type your text here:\n",
    "my_input = \"COVID-19 is\""
   ]
  },
  {
   "cell_type": "code",
   "execution_count": null,
   "id": "b6bbc734-e914-47ff-8c25-4406130064e7",
   "metadata": {
    "tags": []
   },
   "outputs": [],
   "source": [
    "src_tokens = m.encode(my_input)\n",
    "generate = m.generate([src_tokens], beam=5)[0]\n",
    "output = m.decode(generate[0][\"tokens\"])\n",
    "print(output)"
   ]
  },
  {
   "cell_type": "code",
   "execution_count": null,
   "id": "57c9587f-8927-4341-b898-598b01daec8b",
   "metadata": {
    "tags": []
   },
   "outputs": [],
   "source": []
  }
 ],
 "metadata": {
  "kernelspec": {
   "display_name": "biogpt",
   "language": "python",
   "name": "biogpt"
  },
  "language_info": {
   "codemirror_mode": {
    "name": "ipython",
    "version": 3
   },
   "file_extension": ".py",
   "mimetype": "text/x-python",
   "name": "python",
   "nbconvert_exporter": "python",
   "pygments_lexer": "ipython3",
   "version": "3.10.9"
  }
 },
 "nbformat": 4,
 "nbformat_minor": 5
}
