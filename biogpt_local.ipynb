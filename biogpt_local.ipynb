{
 "cells": [
  {
   "cell_type": "markdown",
   "id": "a632bf8a-2ac7-4e5c-bb72-a712b8f2f9cc",
   "metadata": {
    "tags": []
   },
   "source": [
    "# BioGPT Local\n",
    "\n",
    "This repo contains a demo to run BioGPT on local machine.\n",
    "\n",
    "BioGPT-Large model with 1.5B parameters is coming, currently available on PubMedQA task with SOTA performance of 81% accuracy. See Question Answering on PubMedQA for evaluation.\n",
    "\n",
    "\n",
    "## Getting Started\n",
    "\n",
    "1. Go to: [http://192.168.206.126:6611/lab](http://192.168.206.126:6611/lab) with your favorite browser (eg: Chrome). \n",
    "\n",
    "2. Pre-run, from top panel, `Run` -> `Run all Markdown cells`, to display the instructions.\n",
    "\n",
    "3. Load model, place your mouse in `Block01 - Loading module`. go to `Run` -> `Run Selected Cells`.\n",
    "\n",
    "4. Enjoy with your own text: place your mouse in `Block02 - Run`. go to `Run` -> `Run Selected Cells`.\n",
    "\n",
    "**Cite**: BioGPT: Generative Pre-trained Transformer for Biomedical Text Generation and Mining, by Renqian Luo, Liai Sun, Yingce Xia, Tao Qin, Sheng Zhang, Hoifung Poon and Tie-Yan Liu."
   ]
  },
  {
   "cell_type": "markdown",
   "id": "81d99ef6-4e77-4cf0-b714-7a5ecc8d7768",
   "metadata": {
    "tags": []
   },
   "source": [
    "## Section 1. Using BioGPT pre-trained model\n",
    "\n",
    "Go to Hugging Face: [`microsoft/biogpt`](https://huggingface.co/microsoft/biogpt) for an alternative way to try BioGPT.\n",
    "\n",
    "Or run the following Commands to run BioGPT on local machine.\n",
    "\n",
    "### 1.1 Loading model\n",
    "\n",
    "Run the following cell to load the `BioGPT` model: **Block01 - loading model**.\n",
    "\n",
    "Congratulation! The Model is loaded properly, if you can see the following log.  \n",
    "\n",
    "If not, post your log to ... (to do)\n",
    "\n",
    "```\n",
    "Loading codes from /home/wm/work/biogpt/BioGPT/data/bpecodes ...\n",
    "Read 40000 codes from the codes file.\n",
    "```"
   ]
  },
  {
   "cell_type": "code",
   "execution_count": null,
   "id": "b4b0185b-872f-4850-bd4f-1879b8ab0059",
   "metadata": {
    "scrolled": true,
    "tags": []
   },
   "outputs": [],
   "source": [
    "## Block01 - loading model\n",
    "## waiting for 1-2 mintues\n",
    "## each time, this block only need to run once, (model saved in m)\n",
    "\n",
    "import torch\n",
    "from fairseq.models.transformer_lm import TransformerLanguageModel\n",
    "m = TransformerLanguageModel.from_pretrained(\n",
    "        \"/home/wm/work/biogpt/BioGPT/checkpoints/Pre-trained-BioGPT\",\n",
    "        \"checkpoint.pt\", \n",
    "        \"/home/wm/work/biogpt/BioGPT/data\",\n",
    "        tokenizer='moses', \n",
    "        bpe='fastbpe', \n",
    "        bpe_codes=\"/home/wm/work/biogpt/BioGPT/data/bpecodes\",\n",
    "        min_len=100,\n",
    "        max_len_b=1024)\n",
    "m.cuda()\n",
    "# waiting for 1-2 mintues to load module."
   ]
  },
  {
   "cell_type": "markdown",
   "id": "cce12ca6-d2d7-47d3-af61-bcb088a82ff7",
   "metadata": {},
   "source": [
    "### 1.2 Input your text \n",
    "\n",
    "**Only need to run the following code: Block02 - Run**\n",
    "\n",
    "Prepare your text (English only?), replace the example \"COVID19-is\"\n",
    "\n",
    "Only need to update the text and the the folloing code, if you want to use different text content.\n",
    "\n",
    "1. Place your mouse in the following cell: **Block02 - Run**. \n",
    "\n",
    "2. From the top panel, choose `Run` -> `Run Selected Cells` (or keyboard shortcut: `Ctrl` + `Enter`)"
   ]
  },
  {
   "cell_type": "code",
   "execution_count": null,
   "id": "b6bbc734-e914-47ff-8c25-4406130064e7",
   "metadata": {
    "tags": []
   },
   "outputs": [],
   "source": [
    "## Block02 - Run\n",
    "my_input = \"piRNA is\"\n",
    "\n",
    "src_tokens = m.encode(my_input)\n",
    "generate = m.generate([src_tokens], beam=5)[0]\n",
    "output = m.decode(generate[0][\"tokens\"])\n",
    "print(output)"
   ]
  }
 ],
 "metadata": {
  "kernelspec": {
   "display_name": "biogpt",
   "language": "python",
   "name": "biogpt"
  },
  "language_info": {
   "codemirror_mode": {
    "name": "ipython",
    "version": 3
   },
   "file_extension": ".py",
   "mimetype": "text/x-python",
   "name": "python",
   "nbconvert_exporter": "python",
   "pygments_lexer": "ipython3",
   "version": "3.10.9"
  }
 },
 "nbformat": 4,
 "nbformat_minor": 5
}
